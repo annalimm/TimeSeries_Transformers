{
 "cells": [
  {
   "cell_type": "markdown",
   "id": "be97991c-9316-479b-9c38-a09264b9a00d",
   "metadata": {},
   "source": [
    "Tutorial: https://medium.com/@mskmay66/transformers-vs-lstm-for-stock-price-time-series-prediction-3a26fcc1a782\n",
    "\n",
    "https://github.com/maym5/lstm_vs_transformer/blob/main/lstm_vs__transformer.ipynb"
   ]
  },
  {
   "cell_type": "markdown",
   "id": "12cc256e-e7bf-4f3f-a137-00b93aeccf39",
   "metadata": {},
   "source": [
    "# LSTM (Long Short-Term Memory recurrent neural network) vs Transformers "
   ]
  },
  {
   "cell_type": "markdown",
   "id": "0d7016f9-21ae-45ae-9242-ad5fede85bf9",
   "metadata": {},
   "source": [
    "Results:\n",
    "    \n",
    "Transf model with the same hyperparametrs is unstable i.e. every time MAPE is different (BUT IS IT REALLY IMPORTANT?)\n",
    "\n",
    "So in article it's said that it could be a problem in terms of retraining models every month, or quarter: \n",
    "\n",
    "\"You might have a powerful transformer model, retrain it, and be left with a pile of junk.\""
   ]
  },
  {
   "cell_type": "markdown",
   "id": "cfb88584-155b-4f40-b19b-b5fe2b8b9500",
   "metadata": {
    "tags": []
   },
   "source": [
    "Metrics:\n",
    "\n",
    "For prediction performance: Mean Absolute Percentage Error (MAPE)\n",
    "\n",
    "For uncertainty: np.var('our predictions') / np.var('actual data')\n",
    "\n",
    "or speed: seconds of runtime"
   ]
  },
  {
   "cell_type": "code",
   "execution_count": 17,
   "id": "a22d6252-d67a-4772-b8f7-05a57b790fbb",
   "metadata": {
    "tags": []
   },
   "outputs": [],
   "source": [
    "import pandas as pd\n",
    "import numpy as np\n",
    "import tensorflow as tf\n",
    "import matplotlib.pyplot as plt\n",
    "import yfinance as yf\n",
    "from sklearn.metrics import mean_absolute_percentage_error\n",
    "from keras.models import Sequential\n",
    "from keras.layers import Dense\n",
    "from keras.layers import LSTM\n",
    "from keras import layers\n",
    "import time\n",
    "import timeit"
   ]
  },
  {
   "cell_type": "markdown",
   "id": "272782b4-6398-4d9c-aaac-749006782f5d",
   "metadata": {},
   "source": [
    "## 1. Helper Classes"
   ]
  },
  {
   "cell_type": "code",
   "execution_count": 18,
   "id": "4786268b-ba37-42ec-9bd2-a09c4346b045",
   "metadata": {
    "tags": []
   },
   "outputs": [],
   "source": [
    "class ETL:\n",
    "    \"\"\"\n",
    "    ticker: str\n",
    "    period: string\n",
    "    test_size: float betwee 0 and 1\n",
    "    n_input: int\n",
    "    timestep: int\n",
    "    Extracts data for stock with ticker `ticker` from yf api,\n",
    "    splits the data into train and test sets by date,\n",
    "    reshapes the data into np.array of shape [#weeks, 5, 1],\n",
    "    converts our problem into supervised learning problem.\n",
    "    \"\"\"\n",
    "    def __init__(self, ticker, test_size=0.2, period='max', n_input=5, timestep=5) -> None:\n",
    "        self.ticker = ticker\n",
    "        self.period = period\n",
    "        self.test_size = test_size\n",
    "        self.n_input = n_input\n",
    "        self.df = self.extract_historic_data()\n",
    "        self.timestep = timestep\n",
    "        self.train, self.test = self.etl()\n",
    "        self.X_train, self.y_train = self.to_supervised(self.train)\n",
    "        self.X_test, self.y_test = self.to_supervised(self.test)\n",
    "\n",
    "    def extract_historic_data(self) -> pd.Series:\n",
    "        \"\"\"\n",
    "        gets historical data from yf api.\n",
    "        \"\"\"\n",
    "        t = yf.Ticker(self.ticker)\n",
    "        history = t.history(period=self.period)\n",
    "        return history.Close\n",
    "\n",
    "    def split_data(self) -> tuple:\n",
    "        \"\"\"\n",
    "        Splits our pd.Series into train and test series with\n",
    "        test series representing test_size * 100 % of data.\n",
    "        \"\"\"\n",
    "        data = self.extract_historic_data()\n",
    "        if len(data) != 0:\n",
    "            train_idx = round(len(data) * (1-self.test_size))\n",
    "            train = data[:train_idx]\n",
    "            test = data[train_idx:]\n",
    "            train = np.array(train)\n",
    "            test = np.array(test)\n",
    "            return train[:, np.newaxis], test[:, np.newaxis]\n",
    "        else:\n",
    "            raise Exception('Data set is empty, cannot split.')\n",
    "\n",
    "    def window_and_reshape(self, data) -> np.array:\n",
    "        \"\"\"\n",
    "        Reformats data into shape our model needs,\n",
    "        namely, [# samples, timestep, # feautures]\n",
    "        samples\n",
    "        \"\"\"\n",
    "        NUM_FEATURES = 1\n",
    "        samples = int(data.shape[0] / self.timestep)\n",
    "        result = np.array(np.array_split(data, samples))\n",
    "        return result.reshape((samples, self.timestep, NUM_FEATURES))\n",
    "\n",
    "    def transform(self, train, test) -> np.array:\n",
    "        train_remainder = train.shape[0] % self.timestep\n",
    "        test_remainder = test.shape[0] % self.timestep\n",
    "        if train_remainder != 0 and test_remainder != 0:\n",
    "            train = train[train_remainder:]\n",
    "            test = test[test_remainder:]\n",
    "        elif train_remainder != 0:\n",
    "            train = train[train_remainder:]\n",
    "        elif test_remainder != 0:\n",
    "            test = test[test_remainder:]\n",
    "        return self.window_and_reshape(train), self.window_and_reshape(test)\n",
    "\n",
    "    def etl(self) -> tuple[np.array, np.array]:\n",
    "        \"\"\"\n",
    "        Runs complete ETL\n",
    "        \"\"\"\n",
    "        train, test = self.split_data()\n",
    "        return self.transform(train, test)\n",
    "\n",
    "    def to_supervised(self, train, n_out=5) -> tuple:\n",
    "        \"\"\"\n",
    "        Converts our time series prediction problem to a\n",
    "        supervised learning problem.\n",
    "        \"\"\"\n",
    "        # flatted the data\n",
    "        data = train.reshape((train.shape[0]*train.shape[1], train.shape[2]))\n",
    "        X, y = [], []\n",
    "        in_start = 0\n",
    "        # step over the entire history one time step at a time\n",
    "        for _ in range(len(data)):\n",
    "            # define the end of the input sequence\n",
    "            in_end = in_start + self.n_input\n",
    "            out_end = in_end + n_out\n",
    "            # ensure we have enough data for this instance\n",
    "            if out_end <= len(data):\n",
    "                x_input = data[in_start:in_end, 0]\n",
    "                x_input = x_input.reshape((len(x_input), 1))\n",
    "                X.append(x_input)\n",
    "                y.append(data[in_end:out_end, 0])\n",
    "                # move along one time step\n",
    "                in_start += 1\n",
    "        return np.array(X), np.array(y)"
   ]
  },
  {
   "cell_type": "code",
   "execution_count": 19,
   "id": "bbb8008b-7d60-4c5c-a9cb-b35dccd7d1fb",
   "metadata": {
    "tags": []
   },
   "outputs": [],
   "source": [
    "class PredictAndForecast:\n",
    "    \"\"\"\n",
    "    model: tf.keras.Model\n",
    "    train: np.array\n",
    "    test: np.array\n",
    "    Takes a trained model, train, and test datasets and returns predictions\n",
    "    of len(test) with same shape.\n",
    "    \"\"\"\n",
    "    def __init__(self, model, train, test, n_input=5) -> None:\n",
    "        self.model = model\n",
    "        self.train = train\n",
    "        self.test = test\n",
    "        self.n_input = n_input\n",
    "        self.predictions = self.get_predictions()\n",
    "\n",
    "    def forecast(self, history) -> np.array:\n",
    "        \"\"\"\n",
    "        Given last weeks actual data, forecasts next weeks prices.\n",
    "        \"\"\"\n",
    "        # flatten data\n",
    "        data = np.array(history)\n",
    "        data = data.reshape((data.shape[0]*data.shape[1], data.shape[2]))\n",
    "        # retrieve last observations for input data\n",
    "        input_x = data[-self.n_input:, :]\n",
    "        # reshape into [1, n_input, 1]\n",
    "        input_x = input_x.reshape((1, len(input_x), input_x.shape[1]))\n",
    "        # forecast the next week\n",
    "        yhat = self.model.predict(input_x, verbose=0)\n",
    "        # we only want the vector forecast\n",
    "        yhat = yhat[0]\n",
    "        return yhat\n",
    "\n",
    "    def get_predictions(self) -> np.array:\n",
    "        \"\"\"\n",
    "        compiles models predictions week by week over entire\n",
    "        test set.\n",
    "        \"\"\"\n",
    "        # history is a list of weekly data\n",
    "        history = [x for x in self.train]\n",
    "        # walk-forward validation over each week\n",
    "        predictions = []\n",
    "        for i in range(len(self.test)):\n",
    "            yhat_sequence = self.forecast(history)\n",
    "            # store the predictions\n",
    "            predictions.append(yhat_sequence)\n",
    "        # get real observation and add to history for predicting the next week\n",
    "            history.append(self.test[i, :])\n",
    "        return np.array(predictions)"
   ]
  },
  {
   "cell_type": "code",
   "execution_count": 20,
   "id": "a017a071-a6d4-4d00-8c81-94b3733fe244",
   "metadata": {
    "tags": []
   },
   "outputs": [],
   "source": [
    "class Evaluate:\n",
    "\n",
    "    def __init__(self, actual, predictions) -> None:\n",
    "        self.actual = actual\n",
    "        self.predictions = predictions\n",
    "        self.var_ratio = self.compare_var()\n",
    "        self.mape = self.evaluate_model_with_mape()\n",
    "\n",
    "    def compare_var(self):\n",
    "        return abs( 1 - (np.var(self.predictions) / np.var(self.actual)))\n",
    "\n",
    "    def evaluate_model_with_mape(self):\n",
    "        return mean_absolute_percentage_error(self.actual.flatten(), self.predictions.flatten())"
   ]
  },
  {
   "cell_type": "code",
   "execution_count": 21,
   "id": "b6d2e7d0-889e-48b2-8b23-6afcd956a1cf",
   "metadata": {
    "tags": []
   },
   "outputs": [],
   "source": [
    "data = ETL('AAPL')"
   ]
  },
  {
   "cell_type": "markdown",
   "id": "9b994582-bb19-45cf-9ea5-c48e4380b04f",
   "metadata": {},
   "source": [
    "## 2. LSTM"
   ]
  },
  {
   "cell_type": "markdown",
   "id": "b283eed9-13f0-4b5a-a9d2-fdb30bb3c768",
   "metadata": {},
   "source": [
    "LSTM layer with 200 nuerons, \n",
    "Dense with 50 nuerons, \n",
    "Dense with 1 nueron"
   ]
  },
  {
   "cell_type": "code",
   "execution_count": 33,
   "id": "e44122d2-5c68-4450-9d34-89a5286913f6",
   "metadata": {
    "tags": []
   },
   "outputs": [],
   "source": [
    "def build_lstm(etl: ETL, epochs=25, batch_size=32) -> tf.keras.Model:\n",
    "    \"\"\"\n",
    "    Builds, compiles, and fits our LSTM baseline model.\n",
    "    \"\"\"\n",
    "    n_timesteps, n_features, n_outputs = 5, 1, 5\n",
    "    callbacks = [tf.keras.callbacks.EarlyStopping(patience=10, restore_best_weights=True)]\n",
    "    \n",
    "    model = Sequential()\n",
    "    model.add(LSTM(200, activation='relu', input_shape=(n_timesteps, n_features)))\n",
    "    model.add(Dense(50, activation='relu'))\n",
    "    model.add(Dense(n_outputs))\n",
    "    \n",
    "    print('compiling baseline model...')\n",
    "    model.compile(optimizer='adam', loss='mse', metrics=['mae', 'mape'])\n",
    "    print('fitting model...')\n",
    "    start = time.time()\n",
    "    history = model.fit(etl.X_train, etl.y_train, batch_size=batch_size, \n",
    "                        epochs=epochs, validation_data=(etl.X_test, etl.y_test), \n",
    "                        verbose=1, callbacks=callbacks)\n",
    "    print(time.time() - start)\n",
    "    return model, history"
   ]
  },
  {
   "cell_type": "code",
   "execution_count": 34,
   "id": "28cdaf3e-5b3a-4d0f-a1ad-d9544ad3aa42",
   "metadata": {
    "tags": []
   },
   "outputs": [
    {
     "name": "stdout",
     "output_type": "stream",
     "text": [
      "compiling baseline model...\n",
      "fitting model...\n",
      "Epoch 1/25\n",
      "270/270 [==============================] - 2s 5ms/step - loss: 1.6301 - mae: 0.3246 - mape: 22.1087 - val_loss: 137.5087 - val_mae: 7.5689 - val_mape: 7.2590\n",
      "Epoch 2/25\n",
      "270/270 [==============================] - 1s 4ms/step - loss: 0.0918 - mae: 0.1253 - mape: 9.1661 - val_loss: 35.9296 - val_mae: 3.6711 - val_mape: 3.8971\n",
      "Epoch 3/25\n",
      "270/270 [==============================] - 1s 4ms/step - loss: 0.0787 - mae: 0.1165 - mape: 8.2443 - val_loss: 57.6500 - val_mae: 5.0223 - val_mape: 5.2115\n",
      "Epoch 4/25\n",
      "270/270 [==============================] - 1s 4ms/step - loss: 0.0709 - mae: 0.1131 - mape: 8.6120 - val_loss: 36.0093 - val_mae: 3.9010 - val_mape: 4.0609\n",
      "Epoch 5/25\n",
      "270/270 [==============================] - 1s 4ms/step - loss: 0.0700 - mae: 0.1112 - mape: 8.3069 - val_loss: 19.4143 - val_mae: 2.6914 - val_mape: 2.9799\n",
      "Epoch 6/25\n",
      "270/270 [==============================] - 1s 4ms/step - loss: 0.0784 - mae: 0.1182 - mape: 8.6125 - val_loss: 23.4017 - val_mae: 3.1129 - val_mape: 3.4965\n",
      "Epoch 7/25\n",
      "270/270 [==============================] - 1s 4ms/step - loss: 0.0735 - mae: 0.1142 - mape: 8.4255 - val_loss: 16.5721 - val_mae: 2.6460 - val_mape: 3.2693\n",
      "Epoch 8/25\n",
      "270/270 [==============================] - 1s 4ms/step - loss: 0.0677 - mae: 0.1095 - mape: 8.8885 - val_loss: 16.9974 - val_mae: 2.6527 - val_mape: 3.1733\n",
      "Epoch 9/25\n",
      "270/270 [==============================] - 1s 4ms/step - loss: 0.0703 - mae: 0.1103 - mape: 8.0922 - val_loss: 16.8464 - val_mae: 2.6096 - val_mape: 3.2336\n",
      "Epoch 10/25\n",
      "270/270 [==============================] - 1s 4ms/step - loss: 0.0633 - mae: 0.1045 - mape: 7.1440 - val_loss: 19.1209 - val_mae: 2.7675 - val_mape: 3.2797\n",
      "Epoch 11/25\n",
      "270/270 [==============================] - 1s 4ms/step - loss: 0.0694 - mae: 0.1110 - mape: 8.1931 - val_loss: 22.2531 - val_mae: 2.9464 - val_mape: 3.3473\n",
      "Epoch 12/25\n",
      "270/270 [==============================] - 1s 4ms/step - loss: 0.0640 - mae: 0.1068 - mape: 7.9139 - val_loss: 33.8578 - val_mae: 3.7797 - val_mape: 4.2111\n",
      "Epoch 13/25\n",
      "270/270 [==============================] - 1s 4ms/step - loss: 0.0661 - mae: 0.1112 - mape: 9.3126 - val_loss: 19.1894 - val_mae: 2.6581 - val_mape: 2.9872\n",
      "Epoch 14/25\n",
      "270/270 [==============================] - 1s 4ms/step - loss: 0.0669 - mae: 0.1082 - mape: 8.5306 - val_loss: 13.8416 - val_mae: 2.6631 - val_mape: 3.7330\n",
      "Epoch 15/25\n",
      "270/270 [==============================] - 1s 4ms/step - loss: 0.0702 - mae: 0.1101 - mape: 8.0045 - val_loss: 23.9805 - val_mae: 3.0048 - val_mape: 3.1869\n",
      "Epoch 16/25\n",
      "270/270 [==============================] - 1s 4ms/step - loss: 0.0625 - mae: 0.1052 - mape: 8.0296 - val_loss: 48.9838 - val_mae: 4.5265 - val_mape: 4.6990\n",
      "Epoch 17/25\n",
      "270/270 [==============================] - 1s 4ms/step - loss: 0.0739 - mae: 0.1092 - mape: 7.4318 - val_loss: 36.7130 - val_mae: 3.7302 - val_mape: 3.7684\n",
      "Epoch 18/25\n",
      "270/270 [==============================] - 1s 4ms/step - loss: 0.0580 - mae: 0.0987 - mape: 6.8528 - val_loss: 30.0124 - val_mae: 3.2940 - val_mape: 3.3364\n",
      "Epoch 19/25\n",
      "270/270 [==============================] - 1s 4ms/step - loss: 0.0470 - mae: 0.0888 - mape: 6.4049 - val_loss: 17.4440 - val_mae: 2.5960 - val_mape: 2.7984\n",
      "Epoch 20/25\n",
      "270/270 [==============================] - 1s 4ms/step - loss: 0.0466 - mae: 0.0885 - mape: 5.8999 - val_loss: 48.0797 - val_mae: 4.3944 - val_mape: 4.0644\n",
      "Epoch 21/25\n",
      "270/270 [==============================] - 1s 4ms/step - loss: 0.0429 - mae: 0.0848 - mape: 6.0593 - val_loss: 63.5495 - val_mae: 5.4001 - val_mape: 5.3564\n",
      "Epoch 22/25\n",
      "270/270 [==============================] - 1s 4ms/step - loss: 0.0494 - mae: 0.0906 - mape: 6.1353 - val_loss: 39.5690 - val_mae: 4.0139 - val_mape: 3.8999\n",
      "Epoch 23/25\n",
      "270/270 [==============================] - 1s 4ms/step - loss: 0.0467 - mae: 0.0870 - mape: 5.8687 - val_loss: 93.4713 - val_mae: 6.2829 - val_mape: 5.4862\n",
      "Epoch 24/25\n",
      "270/270 [==============================] - 1s 5ms/step - loss: 0.0497 - mae: 0.0936 - mape: 7.1444 - val_loss: 26.3682 - val_mae: 3.1003 - val_mape: 3.3586\n",
      "28.403987884521484\n"
     ]
    }
   ],
   "source": [
    "baseline = build_lstm(data)"
   ]
  },
  {
   "cell_type": "code",
   "execution_count": 35,
   "id": "abdbaeca-435e-4a1e-8c9b-1c51f6a3b2be",
   "metadata": {
    "tags": []
   },
   "outputs": [
    {
     "name": "stdout",
     "output_type": "stream",
     "text": [
      "Model: \"sequential\"\n",
      "_________________________________________________________________\n",
      " Layer (type)                Output Shape              Param #   \n",
      "=================================================================\n",
      " lstm (LSTM)                 (None, 200)               161600    \n",
      "                                                                 \n",
      " dense_4 (Dense)             (None, 50)                10050     \n",
      "                                                                 \n",
      " dense_5 (Dense)             (None, 5)                 255       \n",
      "                                                                 \n",
      "=================================================================\n",
      "Total params: 171905 (671.50 KB)\n",
      "Trainable params: 171905 (671.50 KB)\n",
      "Non-trainable params: 0 (0.00 Byte)\n",
      "_________________________________________________________________\n"
     ]
    }
   ],
   "source": [
    "baseline_model = baseline[0]\n",
    "history = baseline[1]\n",
    "\n",
    "baseline_model.summary()"
   ]
  },
  {
   "cell_type": "markdown",
   "id": "2d35c835-bdb4-4b6c-9b04-0d88c8aa9fb6",
   "metadata": {},
   "source": [
    "## 3. Keras Transformer"
   ]
  },
  {
   "cell_type": "markdown",
   "id": "8a67abf3-13c3-4d96-9745-b5b9c137e349",
   "metadata": {},
   "source": [
    "Compare with ChatGPT transformer code"
   ]
  },
  {
   "cell_type": "code",
   "execution_count": 22,
   "id": "32db0363-e5ea-4982-ad10-32a5945ef6d8",
   "metadata": {
    "tags": []
   },
   "outputs": [],
   "source": [
    "def transformer_encoder(inputs, head_size, num_heads, ff_dim, \n",
    "                        dropout=0, epsilon=1e-6, attention_axes=None, kernel_size=1):\n",
    "    \"\"\"\n",
    "    Creates a single transformer block.\n",
    "    \"\"\"\n",
    "    x = layers.LayerNormalization(epsilon=epsilon)(inputs)\n",
    "    x = layers.MultiHeadAttention(\n",
    "      key_dim=head_size, num_heads=num_heads, dropout=dropout,\n",
    "      attention_axes=attention_axes\n",
    "      )(x, x)\n",
    "    x = layers.Dropout(dropout)(x)\n",
    "    res = x + inputs\n",
    "\n",
    "    # Feed Forward Part\n",
    "    x = layers.LayerNormalization(epsilon=epsilon)(res)\n",
    "    x = layers.Conv1D(filters=ff_dim, kernel_size=kernel_size, activation=\"relu\")(x)\n",
    "    x = layers.Dropout(dropout)(x)\n",
    "    x = layers.Conv1D(filters=inputs.shape[-1], kernel_size=kernel_size)(x)\n",
    "    return x + res\n",
    "\n",
    "def build_transfromer(head_size, num_heads, ff_dim, num_trans_blocks, \n",
    "                      mlp_units, dropout=0, mlp_dropout=0, attention_axes=None, epsilon=1e-6, kernel_size=1):\n",
    "    \"\"\"\n",
    "    Creates final model by building many transformer blocks.\n",
    "    \"\"\"\n",
    "    n_timesteps, n_features, n_outputs = 5, 1, 5\n",
    "    inputs = tf.keras.Input(shape=(n_timesteps, n_features))\n",
    "    x = inputs\n",
    "    for _ in range(num_trans_blocks):\n",
    "        x = transformer_encoder(x, head_size=head_size, num_heads=num_heads, ff_dim=ff_dim, \n",
    "                                dropout=dropout, attention_axes=attention_axes, kernel_size=kernel_size, epsilon=epsilon)\n",
    "\n",
    "    x = layers.GlobalAveragePooling1D(data_format=\"channels_first\")(x)\n",
    "    for dim in mlp_units:\n",
    "        x = layers.Dense(dim, activation=\"relu\")(x)\n",
    "        x = layers.Dropout(mlp_dropout)(x)\n",
    "\n",
    "    outputs = layers.Dense(n_outputs)(x)\n",
    "    #outputs = layers.Dense(n_outputs, activation='relu')(x) #instead of softmax(4 classif) we set relu\n",
    "    return tf.keras.Model(inputs, outputs)"
   ]
  },
  {
   "cell_type": "code",
   "execution_count": 23,
   "id": "cd96810c-ade8-4d3e-83e1-f0126571f384",
   "metadata": {
    "tags": []
   },
   "outputs": [],
   "source": [
    "transformer = build_transfromer(head_size=128, num_heads=4, ff_dim=2, \n",
    "                                num_trans_blocks=4, mlp_units=[256], \n",
    "                                mlp_dropout=0.10, dropout=0.10, attention_axes=1)"
   ]
  },
  {
   "cell_type": "code",
   "execution_count": 24,
   "id": "05f55e7f-593e-4ad1-badb-8eef815503aa",
   "metadata": {
    "tags": []
   },
   "outputs": [
    {
     "name": "stdout",
     "output_type": "stream",
     "text": [
      "Model: \"model_1\"\n",
      "__________________________________________________________________________________________________\n",
      " Layer (type)                Output Shape                 Param #   Connected to                  \n",
      "==================================================================================================\n",
      " input_2 (InputLayer)        [(None, 5, 1)]               0         []                            \n",
      "                                                                                                  \n",
      " layer_normalization_8 (Lay  (None, 5, 1)                 2         ['input_2[0][0]']             \n",
      " erNormalization)                                                                                 \n",
      "                                                                                                  \n",
      " multi_head_attention_4 (Mu  (None, 5, 1)                 3585      ['layer_normalization_8[0][0]'\n",
      " ltiHeadAttention)                                                  , 'layer_normalization_8[0][0]\n",
      "                                                                    ']                            \n",
      "                                                                                                  \n",
      " dropout_9 (Dropout)         (None, 5, 1)                 0         ['multi_head_attention_4[0][0]\n",
      "                                                                    ']                            \n",
      "                                                                                                  \n",
      " tf.__operators__.add_8 (TF  (None, 5, 1)                 0         ['dropout_9[0][0]',           \n",
      " OpLambda)                                                           'input_2[0][0]']             \n",
      "                                                                                                  \n",
      " layer_normalization_9 (Lay  (None, 5, 1)                 2         ['tf.__operators__.add_8[0][0]\n",
      " erNormalization)                                                   ']                            \n",
      "                                                                                                  \n",
      " conv1d_8 (Conv1D)           (None, 5, 2)                 4         ['layer_normalization_9[0][0]'\n",
      "                                                                    ]                             \n",
      "                                                                                                  \n",
      " dropout_10 (Dropout)        (None, 5, 2)                 0         ['conv1d_8[0][0]']            \n",
      "                                                                                                  \n",
      " conv1d_9 (Conv1D)           (None, 5, 1)                 3         ['dropout_10[0][0]']          \n",
      "                                                                                                  \n",
      " tf.__operators__.add_9 (TF  (None, 5, 1)                 0         ['conv1d_9[0][0]',            \n",
      " OpLambda)                                                           'tf.__operators__.add_8[0][0]\n",
      "                                                                    ']                            \n",
      "                                                                                                  \n",
      " layer_normalization_10 (La  (None, 5, 1)                 2         ['tf.__operators__.add_9[0][0]\n",
      " yerNormalization)                                                  ']                            \n",
      "                                                                                                  \n",
      " multi_head_attention_5 (Mu  (None, 5, 1)                 3585      ['layer_normalization_10[0][0]\n",
      " ltiHeadAttention)                                                  ',                            \n",
      "                                                                     'layer_normalization_10[0][0]\n",
      "                                                                    ']                            \n",
      "                                                                                                  \n",
      " dropout_11 (Dropout)        (None, 5, 1)                 0         ['multi_head_attention_5[0][0]\n",
      "                                                                    ']                            \n",
      "                                                                                                  \n",
      " tf.__operators__.add_10 (T  (None, 5, 1)                 0         ['dropout_11[0][0]',          \n",
      " FOpLambda)                                                          'tf.__operators__.add_9[0][0]\n",
      "                                                                    ']                            \n",
      "                                                                                                  \n",
      " layer_normalization_11 (La  (None, 5, 1)                 2         ['tf.__operators__.add_10[0][0\n",
      " yerNormalization)                                                  ]']                           \n",
      "                                                                                                  \n",
      " conv1d_10 (Conv1D)          (None, 5, 2)                 4         ['layer_normalization_11[0][0]\n",
      "                                                                    ']                            \n",
      "                                                                                                  \n",
      " dropout_12 (Dropout)        (None, 5, 2)                 0         ['conv1d_10[0][0]']           \n",
      "                                                                                                  \n",
      " conv1d_11 (Conv1D)          (None, 5, 1)                 3         ['dropout_12[0][0]']          \n",
      "                                                                                                  \n",
      " tf.__operators__.add_11 (T  (None, 5, 1)                 0         ['conv1d_11[0][0]',           \n",
      " FOpLambda)                                                          'tf.__operators__.add_10[0][0\n",
      "                                                                    ]']                           \n",
      "                                                                                                  \n",
      " layer_normalization_12 (La  (None, 5, 1)                 2         ['tf.__operators__.add_11[0][0\n",
      " yerNormalization)                                                  ]']                           \n",
      "                                                                                                  \n",
      " multi_head_attention_6 (Mu  (None, 5, 1)                 3585      ['layer_normalization_12[0][0]\n",
      " ltiHeadAttention)                                                  ',                            \n",
      "                                                                     'layer_normalization_12[0][0]\n",
      "                                                                    ']                            \n",
      "                                                                                                  \n",
      " dropout_13 (Dropout)        (None, 5, 1)                 0         ['multi_head_attention_6[0][0]\n",
      "                                                                    ']                            \n",
      "                                                                                                  \n",
      " tf.__operators__.add_12 (T  (None, 5, 1)                 0         ['dropout_13[0][0]',          \n",
      " FOpLambda)                                                          'tf.__operators__.add_11[0][0\n",
      "                                                                    ]']                           \n",
      "                                                                                                  \n",
      " layer_normalization_13 (La  (None, 5, 1)                 2         ['tf.__operators__.add_12[0][0\n",
      " yerNormalization)                                                  ]']                           \n",
      "                                                                                                  \n",
      " conv1d_12 (Conv1D)          (None, 5, 2)                 4         ['layer_normalization_13[0][0]\n",
      "                                                                    ']                            \n",
      "                                                                                                  \n",
      " dropout_14 (Dropout)        (None, 5, 2)                 0         ['conv1d_12[0][0]']           \n",
      "                                                                                                  \n",
      " conv1d_13 (Conv1D)          (None, 5, 1)                 3         ['dropout_14[0][0]']          \n",
      "                                                                                                  \n",
      " tf.__operators__.add_13 (T  (None, 5, 1)                 0         ['conv1d_13[0][0]',           \n",
      " FOpLambda)                                                          'tf.__operators__.add_12[0][0\n",
      "                                                                    ]']                           \n",
      "                                                                                                  \n",
      " layer_normalization_14 (La  (None, 5, 1)                 2         ['tf.__operators__.add_13[0][0\n",
      " yerNormalization)                                                  ]']                           \n",
      "                                                                                                  \n",
      " multi_head_attention_7 (Mu  (None, 5, 1)                 3585      ['layer_normalization_14[0][0]\n",
      " ltiHeadAttention)                                                  ',                            \n",
      "                                                                     'layer_normalization_14[0][0]\n",
      "                                                                    ']                            \n",
      "                                                                                                  \n",
      " dropout_15 (Dropout)        (None, 5, 1)                 0         ['multi_head_attention_7[0][0]\n",
      "                                                                    ']                            \n",
      "                                                                                                  \n",
      " tf.__operators__.add_14 (T  (None, 5, 1)                 0         ['dropout_15[0][0]',          \n",
      " FOpLambda)                                                          'tf.__operators__.add_13[0][0\n",
      "                                                                    ]']                           \n",
      "                                                                                                  \n",
      " layer_normalization_15 (La  (None, 5, 1)                 2         ['tf.__operators__.add_14[0][0\n",
      " yerNormalization)                                                  ]']                           \n",
      "                                                                                                  \n",
      " conv1d_14 (Conv1D)          (None, 5, 2)                 4         ['layer_normalization_15[0][0]\n",
      "                                                                    ']                            \n",
      "                                                                                                  \n",
      " dropout_16 (Dropout)        (None, 5, 2)                 0         ['conv1d_14[0][0]']           \n",
      "                                                                                                  \n",
      " conv1d_15 (Conv1D)          (None, 5, 1)                 3         ['dropout_16[0][0]']          \n",
      "                                                                                                  \n",
      " tf.__operators__.add_15 (T  (None, 5, 1)                 0         ['conv1d_15[0][0]',           \n",
      " FOpLambda)                                                          'tf.__operators__.add_14[0][0\n",
      "                                                                    ]']                           \n",
      "                                                                                                  \n",
      " global_average_pooling1d_1  (None, 5)                    0         ['tf.__operators__.add_15[0][0\n",
      "  (GlobalAveragePooling1D)                                          ]']                           \n",
      "                                                                                                  \n",
      " dense_2 (Dense)             (None, 256)                  1536      ['global_average_pooling1d_1[0\n",
      "                                                                    ][0]']                        \n",
      "                                                                                                  \n",
      " dropout_17 (Dropout)        (None, 256)                  0         ['dense_2[0][0]']             \n",
      "                                                                                                  \n",
      " dense_3 (Dense)             (None, 5)                    1285      ['dropout_17[0][0]']          \n",
      "                                                                                                  \n",
      "==================================================================================================\n",
      "Total params: 17205 (67.21 KB)\n",
      "Trainable params: 17205 (67.21 KB)\n",
      "Non-trainable params: 0 (0.00 Byte)\n",
      "__________________________________________________________________________________________________\n"
     ]
    }
   ],
   "source": [
    "transformer.summary()"
   ]
  },
  {
   "cell_type": "code",
   "execution_count": null,
   "id": "f1d76f2b-307a-4742-a92c-2ed901359c5b",
   "metadata": {},
   "outputs": [],
   "source": []
  },
  {
   "cell_type": "code",
   "execution_count": 25,
   "id": "74e3d0b3-5dea-4b3f-aebc-0768549a3fe2",
   "metadata": {
    "tags": []
   },
   "outputs": [],
   "source": [
    "def fit_transformer(transformer: tf.keras.Model):\n",
    "    \"\"\"\n",
    "    Compiles and fits our transformer.\n",
    "    \"\"\"\n",
    "    transformer.compile(\n",
    "        loss=\"mse\",  #for our task\n",
    "        optimizer=tf.keras.optimizers.Adam(learning_rate=1e-3),\n",
    "        metrics=[\"mae\", 'mape'])\n",
    "\n",
    "    callbacks = [tf.keras.callbacks.EarlyStopping(monitor='loss', patience=10, restore_best_weights=True)]\n",
    "    \n",
    "    start = time.time()\n",
    "    \n",
    "    hist = transformer.fit(data.X_train, data.y_train, batch_size=32, \n",
    "                           epochs=25, verbose=1, callbacks=callbacks)\n",
    "    \n",
    "    print(time.time() - start)\n",
    "    return hist"
   ]
  },
  {
   "cell_type": "code",
   "execution_count": 27,
   "id": "2dfa2e9a-41f6-4035-a90f-688c1bcf89c2",
   "metadata": {
    "tags": []
   },
   "outputs": [
    {
     "name": "stdout",
     "output_type": "stream",
     "text": [
      "Epoch 1/25\n",
      "270/270 [==============================] - 4s 7ms/step - loss: 0.0882 - mae: 0.1201 - mape: 9.6824\n",
      "Epoch 2/25\n",
      "270/270 [==============================] - 2s 7ms/step - loss: 0.0963 - mae: 0.1253 - mape: 9.1470\n",
      "Epoch 3/25\n",
      "270/270 [==============================] - 2s 7ms/step - loss: 0.0997 - mae: 0.1232 - mape: 9.0020\n",
      "Epoch 4/25\n",
      "270/270 [==============================] - 2s 7ms/step - loss: 0.1028 - mae: 0.1288 - mape: 9.6419\n",
      "Epoch 5/25\n",
      "270/270 [==============================] - 2s 7ms/step - loss: 0.0993 - mae: 0.1235 - mape: 7.9371\n",
      "Epoch 6/25\n",
      "270/270 [==============================] - 2s 7ms/step - loss: 0.0861 - mae: 0.1236 - mape: 13.0127\n",
      "Epoch 7/25\n",
      "270/270 [==============================] - 2s 7ms/step - loss: 0.0901 - mae: 0.1160 - mape: 7.4259\n",
      "Epoch 8/25\n",
      "270/270 [==============================] - 2s 7ms/step - loss: 0.0893 - mae: 0.1179 - mape: 7.9844\n",
      "Epoch 9/25\n",
      "270/270 [==============================] - 2s 7ms/step - loss: 0.0886 - mae: 0.1186 - mape: 9.2804\n",
      "Epoch 10/25\n",
      "270/270 [==============================] - 2s 7ms/step - loss: 0.0873 - mae: 0.1163 - mape: 8.1368\n",
      "Epoch 11/25\n",
      "270/270 [==============================] - 2s 8ms/step - loss: 0.0925 - mae: 0.1250 - mape: 10.7403\n",
      "Epoch 12/25\n",
      "270/270 [==============================] - 2s 8ms/step - loss: 0.0867 - mae: 0.1242 - mape: 12.9162\n",
      "Epoch 13/25\n",
      "270/270 [==============================] - 2s 8ms/step - loss: 0.0936 - mae: 0.1177 - mape: 7.4386\n",
      "Epoch 14/25\n",
      "270/270 [==============================] - 2s 8ms/step - loss: 0.0845 - mae: 0.1144 - mape: 7.9817\n",
      "Epoch 15/25\n",
      "270/270 [==============================] - 2s 8ms/step - loss: 0.0969 - mae: 0.1258 - mape: 10.2645\n",
      "Epoch 16/25\n",
      "270/270 [==============================] - 2s 8ms/step - loss: 0.0847 - mae: 0.1150 - mape: 8.3740\n",
      "Epoch 17/25\n",
      "270/270 [==============================] - 2s 8ms/step - loss: 0.0855 - mae: 0.1166 - mape: 8.5427\n",
      "Epoch 18/25\n",
      "270/270 [==============================] - 2s 8ms/step - loss: 0.0805 - mae: 0.1126 - mape: 8.0437\n",
      "Epoch 19/25\n",
      "270/270 [==============================] - 2s 7ms/step - loss: 0.0901 - mae: 0.1193 - mape: 10.3484\n",
      "Epoch 20/25\n",
      "270/270 [==============================] - 2s 7ms/step - loss: 0.0923 - mae: 0.1297 - mape: 14.1242\n",
      "Epoch 21/25\n",
      "270/270 [==============================] - 2s 7ms/step - loss: 0.0853 - mae: 0.1159 - mape: 8.3304\n",
      "Epoch 22/25\n",
      "270/270 [==============================] - 2s 8ms/step - loss: 0.0907 - mae: 0.1168 - mape: 8.0018\n",
      "Epoch 23/25\n",
      "270/270 [==============================] - 2s 8ms/step - loss: 0.0928 - mae: 0.1196 - mape: 9.0653\n",
      "Epoch 24/25\n",
      "270/270 [==============================] - 2s 7ms/step - loss: 0.0853 - mae: 0.1169 - mape: 9.2373\n",
      "Epoch 25/25\n",
      "270/270 [==============================] - 2s 7ms/step - loss: 0.0828 - mae: 0.1132 - mape: 8.4434\n",
      "52.563210010528564\n"
     ]
    }
   ],
   "source": [
    "hist = fit_transformer(transformer)"
   ]
  },
  {
   "cell_type": "markdown",
   "id": "be41e5cb-1588-40a0-a4fb-8bb7e229df25",
   "metadata": {},
   "source": [
    "## 4. Inference on Model"
   ]
  },
  {
   "cell_type": "code",
   "execution_count": 36,
   "id": "9ec4d2d7-f955-41eb-8486-e02e1d198498",
   "metadata": {
    "tags": []
   },
   "outputs": [
    {
     "name": "stdout",
     "output_type": "stream",
     "text": [
      "7.841715335845947\n"
     ]
    }
   ],
   "source": [
    "start = time.time()\n",
    "baseline_preds = PredictAndForecast(baseline_model, data.train, data.test)\n",
    "print(time.time() - start)"
   ]
  },
  {
   "cell_type": "code",
   "execution_count": 29,
   "id": "0782376e-99a4-4f07-8acf-eae5afa9a015",
   "metadata": {
    "tags": []
   },
   "outputs": [
    {
     "name": "stdout",
     "output_type": "stream",
     "text": [
      "7.907478094100952\n"
     ]
    }
   ],
   "source": [
    "start = time.time()\n",
    "transformer_preds = PredictAndForecast(transformer, data.train, data.test)\n",
    "print(time.time() - start)"
   ]
  },
  {
   "cell_type": "markdown",
   "id": "362ccfbc-773e-4574-9e6c-c0bf5da9bae8",
   "metadata": {},
   "source": [
    "## 5. Evaluating on test set"
   ]
  },
  {
   "cell_type": "code",
   "execution_count": 37,
   "id": "9a9e93aa-5ca0-4526-8efa-255782e0988a",
   "metadata": {
    "tags": []
   },
   "outputs": [],
   "source": [
    "baseline_evals = Evaluate(data.test, baseline_preds.predictions)\n",
    "transformer_evals = Evaluate(data.test, transformer_preds.predictions)"
   ]
  },
  {
   "cell_type": "code",
   "execution_count": 38,
   "id": "a1b39684-cbca-4f66-bc98-8758711b9c8d",
   "metadata": {
    "tags": []
   },
   "outputs": [
    {
     "data": {
      "text/plain": [
       "(0.03712229487739705, 0.022729337957154875)"
      ]
     },
     "execution_count": 38,
     "metadata": {},
     "output_type": "execute_result"
    }
   ],
   "source": [
    "baseline_evals.mape, transformer_evals.mape"
   ]
  },
  {
   "cell_type": "code",
   "execution_count": 39,
   "id": "eec025e7-d4d7-42a0-abf3-7ae1e55fc4c3",
   "metadata": {
    "tags": []
   },
   "outputs": [
    {
     "data": {
      "text/plain": [
       "(0.0007346274113725348, 0.0072835788336096385)"
      ]
     },
     "execution_count": 39,
     "metadata": {},
     "output_type": "execute_result"
    }
   ],
   "source": [
    "baseline_evals.var_ratio, transformer_evals.var_ratio"
   ]
  },
  {
   "cell_type": "markdown",
   "id": "1588b266-3351-4a19-be88-8aa1cf84716b",
   "metadata": {},
   "source": [
    "## Visualizing"
   ]
  },
  {
   "cell_type": "code",
   "execution_count": 31,
   "id": "56a8c92b-ff79-4d0d-b50c-455bd17d1996",
   "metadata": {
    "tags": []
   },
   "outputs": [],
   "source": [
    "def plot_results(test, preds, df, image_path=None, title_suffix=None, xlabel='AAPL stock Price'):\n",
    "    \"\"\"\n",
    "    Plots training data in blue, actual values in red, and predictions in green,\n",
    "    over time.\n",
    "    \"\"\"\n",
    "    fig, ax = plt.subplots(figsize=(20,6))\n",
    "    # x = df.Close[-498:].index\n",
    "    plot_test = test[1:]\n",
    "    plot_preds = preds[1:]\n",
    "    x = df[-(plot_test.shape[0]*plot_test.shape[1]):].index\n",
    "    plot_test = plot_test.reshape((plot_test.shape[0]*plot_test.shape[1], 1))\n",
    "    plot_preds = plot_preds.reshape((plot_test.shape[0]*plot_test.shape[1], 1))\n",
    "    ax.plot(x, plot_test, label='actual')\n",
    "    ax.plot(x, plot_preds, label='preds')\n",
    "    \n",
    "    if title_suffix==None:\n",
    "        ax.set_title('Predictions vs. Actual')\n",
    "    else:\n",
    "        ax.set_title(f'Predictions vs. Actual, {title_suffix}')\n",
    "        \n",
    "    ax.set_xlabel('Date')\n",
    "    ax.set_ylabel(xlabel)\n",
    "    ax.legend()\n",
    "    \n",
    "    # if image_path != None:\n",
    "    #     imagedir = '/content/drive/MyDrive/Colab Notebooks/images'\n",
    "    #     plt.savefig(f'{imagedir}/{image_path}.png')\n",
    "    plt.show()"
   ]
  },
  {
   "cell_type": "code",
   "execution_count": 32,
   "id": "6b2ccadf-ea2e-41c7-bc6f-287ec8343f96",
   "metadata": {
    "tags": []
   },
   "outputs": [
    {
     "data": {
      "image/png": "[encoded data removed]",
      "text/plain": [
       "<Figure size 2000x600 with 1 Axes>"
      ]
     },
     "metadata": {},
     "output_type": "display_data"
    }
   ],
   "source": [
    "plot_results(data.test, transformer_preds.predictions, data.df, title_suffix='Transformer')"
   ]
  },
  {
   "cell_type": "code",
   "execution_count": null,
   "id": "16fc677c-7e7c-43fa-bc77-e77d6952255b",
   "metadata": {},
   "outputs": [],
   "source": []
  }
 ],
 "metadata": {
  "kernelspec": {
   "display_name": "jax",
   "language": "python",
   "name": "jax"
  },
  "language_info": {
   "codemirror_mode": {
    "name": "ipython",
    "version": 3
   },
   "file_extension": ".py",
   "mimetype": "text/x-python",
   "name": "python",
   "nbconvert_exporter": "python",
   "pygments_lexer": "ipython3",
   "version": "3.11.0"
  }
 },
 "nbformat": 4,
 "nbformat_minor": 5
}
